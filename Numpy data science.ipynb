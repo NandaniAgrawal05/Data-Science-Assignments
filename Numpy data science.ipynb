{
 "cells": [
  {
   "cell_type": "markdown",
   "id": "f626805b",
   "metadata": {},
   "source": [
    "# NumPy Exercises"
   ]
  },
  {
   "cell_type": "markdown",
   "id": "ef99460b",
   "metadata": {},
   "source": [
    "Now that we have learned about Numpy let's test your knowledge. We'll start off with a New simple tasks, and then you'll be asked some more complicated questions"
   ]
  },
  {
   "cell_type": "markdown",
   "id": "998949d7",
   "metadata": {},
   "source": [
    "# Import NumPy as np"
   ]
  },
  {
   "cell_type": "code",
   "execution_count": 1,
   "id": "be715c93",
   "metadata": {},
   "outputs": [],
   "source": [
    "import numpy as np"
   ]
  },
  {
   "cell_type": "markdown",
   "id": "d3357033",
   "metadata": {},
   "source": [
    "# Create an array of 10 zeroes"
   ]
  },
  {
   "cell_type": "code",
   "execution_count": 2,
   "id": "14932aa3",
   "metadata": {},
   "outputs": [
    {
     "data": {
      "text/plain": [
       "array([0., 0., 0., 0., 0., 0., 0., 0., 0., 0.])"
      ]
     },
     "execution_count": 2,
     "metadata": {},
     "output_type": "execute_result"
    }
   ],
   "source": [
    "np.zeros(10)"
   ]
  },
  {
   "cell_type": "markdown",
   "id": "463e23d3",
   "metadata": {},
   "source": [
    "# create an array of 10 ones"
   ]
  },
  {
   "cell_type": "code",
   "execution_count": 6,
   "id": "10453478",
   "metadata": {},
   "outputs": [
    {
     "data": {
      "text/plain": [
       "array([1., 1., 1., 1., 1., 1., 1., 1., 1., 1.])"
      ]
     },
     "execution_count": 6,
     "metadata": {},
     "output_type": "execute_result"
    }
   ],
   "source": [
    "np.ones(10)"
   ]
  },
  {
   "cell_type": "markdown",
   "id": "067ca810",
   "metadata": {},
   "source": [
    "# create an array of 10 fives."
   ]
  },
  {
   "cell_type": "code",
   "execution_count": 7,
   "id": "67cfa945",
   "metadata": {},
   "outputs": [
    {
     "data": {
      "text/plain": [
       "array([5., 5., 5., 5., 5., 5., 5., 5., 5., 5.])"
      ]
     },
     "execution_count": 7,
     "metadata": {},
     "output_type": "execute_result"
    }
   ],
   "source": [
    "np.ones(10)*5"
   ]
  },
  {
   "cell_type": "code",
   "execution_count": 8,
   "id": "bc0fac1c",
   "metadata": {},
   "outputs": [],
   "source": [
    "#create an array of the integers from 10 to 50"
   ]
  },
  {
   "cell_type": "code",
   "execution_count": 7,
   "id": "3207026e",
   "metadata": {},
   "outputs": [
    {
     "data": {
      "text/plain": [
       "array([10, 11, 12, 13, 14, 15, 16, 17, 18, 19, 20, 21, 22, 23, 24, 25, 26,\n",
       "       27, 28, 29, 30, 31, 32, 33, 34, 35, 36, 37, 38, 39, 40, 41, 42, 43,\n",
       "       44, 45, 46, 47, 48, 49])"
      ]
     },
     "execution_count": 7,
     "metadata": {},
     "output_type": "execute_result"
    }
   ],
   "source": [
    "np.arange(10,50)"
   ]
  },
  {
   "cell_type": "code",
   "execution_count": 10,
   "id": "b3d0a2eb",
   "metadata": {},
   "outputs": [],
   "source": [
    "#create an array of all the even integers from 10 to 50 "
   ]
  },
  {
   "cell_type": "code",
   "execution_count": 11,
   "id": "2d2aae23",
   "metadata": {},
   "outputs": [
    {
     "data": {
      "text/plain": [
       "array([10, 12, 14, 16, 18, 20, 22, 24, 26, 28, 30, 32, 34, 36, 38, 40, 42,\n",
       "       44, 46, 48])"
      ]
     },
     "execution_count": 11,
     "metadata": {},
     "output_type": "execute_result"
    }
   ],
   "source": [
    "np.arange(10,50,2)"
   ]
  },
  {
   "cell_type": "code",
   "execution_count": 12,
   "id": "1cb7c3ce",
   "metadata": {},
   "outputs": [],
   "source": [
    "#create an 3x3 matrix with values ranging from 0 to 8"
   ]
  },
  {
   "cell_type": "code",
   "execution_count": 8,
   "id": "442092ac",
   "metadata": {},
   "outputs": [
    {
     "data": {
      "text/plain": [
       "array([[0, 1, 2],\n",
       "       [3, 4, 5],\n",
       "       [6, 7, 8]])"
      ]
     },
     "execution_count": 8,
     "metadata": {},
     "output_type": "execute_result"
    }
   ],
   "source": [
    "np.arange(0,9).reshape(3,3)"
   ]
  },
  {
   "cell_type": "code",
   "execution_count": 15,
   "id": "013ea554",
   "metadata": {},
   "outputs": [],
   "source": [
    "#create a 3x3 identity matrix"
   ]
  },
  {
   "cell_type": "code",
   "execution_count": 16,
   "id": "b6e7db03",
   "metadata": {},
   "outputs": [
    {
     "data": {
      "text/plain": [
       "array([[1., 0., 0.],\n",
       "       [0., 1., 0.],\n",
       "       [0., 0., 1.]])"
      ]
     },
     "execution_count": 16,
     "metadata": {},
     "output_type": "execute_result"
    }
   ],
   "source": [
    "np.eye(3)"
   ]
  },
  {
   "cell_type": "code",
   "execution_count": 17,
   "id": "600fff26",
   "metadata": {},
   "outputs": [],
   "source": [
    "#use Numpy to generate a random integer between 0 and 1"
   ]
  },
  {
   "cell_type": "code",
   "execution_count": 3,
   "id": "1425563d",
   "metadata": {},
   "outputs": [
    {
     "data": {
      "text/plain": [
       "array([0.68026481])"
      ]
     },
     "execution_count": 3,
     "metadata": {},
     "output_type": "execute_result"
    }
   ],
   "source": [
    "import numpy as np\n",
    "np.random.rand(1)"
   ]
  },
  {
   "cell_type": "code",
   "execution_count": 23,
   "id": "0fde3fe8",
   "metadata": {},
   "outputs": [],
   "source": [
    "#use Numpy to generate an array of 23 random numbers sampled from a standard normal distribution "
   ]
  },
  {
   "cell_type": "code",
   "execution_count": 3,
   "id": "e473f7af",
   "metadata": {},
   "outputs": [
    {
     "data": {
      "text/plain": [
       "array([-0.70223965, -0.96252531,  0.07290015,  0.04525854, -0.19082715,\n",
       "        0.19557492, -0.52334979,  0.36468822, -1.56438197, -0.46370973,\n",
       "        1.6421112 ,  0.75887653,  0.1384222 , -0.50416373, -0.9254727 ,\n",
       "        2.32683447,  0.02791543, -1.54490699,  0.2058696 ,  0.36333381,\n",
       "        0.65822785,  1.42645253, -0.26923351])"
      ]
     },
     "execution_count": 3,
     "metadata": {},
     "output_type": "execute_result"
    }
   ],
   "source": [
    "np.random.randn(23)"
   ]
  },
  {
   "cell_type": "code",
   "execution_count": 25,
   "id": "717fa3e4",
   "metadata": {},
   "outputs": [],
   "source": [
    "#Create the following matrix"
   ]
  },
  {
   "cell_type": "code",
   "execution_count": 41,
   "id": "edecbf31",
   "metadata": {},
   "outputs": [
    {
     "data": {
      "text/plain": [
       "array([[0.01, 0.02, 0.03, 0.04, 0.05, 0.06, 0.07, 0.08, 0.09, 0.1 ],\n",
       "       [0.11, 0.12, 0.13, 0.14, 0.15, 0.16, 0.17, 0.18, 0.19, 0.2 ],\n",
       "       [0.21, 0.22, 0.23, 0.24, 0.25, 0.26, 0.27, 0.28, 0.29, 0.3 ],\n",
       "       [0.31, 0.32, 0.33, 0.34, 0.35, 0.36, 0.37, 0.38, 0.39, 0.4 ],\n",
       "       [0.41, 0.42, 0.43, 0.44, 0.45, 0.46, 0.47, 0.48, 0.49, 0.5 ],\n",
       "       [0.51, 0.52, 0.53, 0.54, 0.55, 0.56, 0.57, 0.58, 0.59, 0.6 ],\n",
       "       [0.61, 0.62, 0.63, 0.64, 0.65, 0.66, 0.67, 0.68, 0.69, 0.7 ],\n",
       "       [0.71, 0.72, 0.73, 0.74, 0.75, 0.76, 0.77, 0.78, 0.79, 0.8 ],\n",
       "       [0.81, 0.82, 0.83, 0.84, 0.85, 0.86, 0.87, 0.88, 0.89, 0.9 ],\n",
       "       [0.91, 0.92, 0.93, 0.94, 0.95, 0.96, 0.97, 0.98, 0.99, 1.  ]])"
      ]
     },
     "execution_count": 41,
     "metadata": {},
     "output_type": "execute_result"
    }
   ],
   "source": [
    "np.arange(1,101).reshape(10,10)/100"
   ]
  },
  {
   "cell_type": "code",
   "execution_count": 42,
   "id": "7fc4c968",
   "metadata": {},
   "outputs": [],
   "source": [
    "#create an array of 20 linearly spaced points between 0 and 1"
   ]
  },
  {
   "cell_type": "code",
   "execution_count": 6,
   "id": "25480bd9",
   "metadata": {},
   "outputs": [
    {
     "data": {
      "text/plain": [
       "array([0.        , 0.05263158, 0.10526316, 0.15789474, 0.21052632,\n",
       "       0.26315789, 0.31578947, 0.36842105, 0.42105263, 0.47368421,\n",
       "       0.52631579, 0.57894737, 0.63157895, 0.68421053, 0.73684211,\n",
       "       0.78947368, 0.84210526, 0.89473684, 0.94736842, 1.        ])"
      ]
     },
     "execution_count": 6,
     "metadata": {},
     "output_type": "execute_result"
    }
   ],
   "source": [
    "np.linspace(0,1,20)"
   ]
  },
  {
   "cell_type": "code",
   "execution_count": 44,
   "id": "48bcd906",
   "metadata": {},
   "outputs": [],
   "source": [
    "#Numpy indexing and selection"
   ]
  },
  {
   "cell_type": "code",
   "execution_count": 45,
   "id": "2a27009c",
   "metadata": {},
   "outputs": [],
   "source": [
    "#Now you will be given a new matrices and be asked to replicate the resulting matrix outputs"
   ]
  },
  {
   "cell_type": "code",
   "execution_count": 8,
   "id": "56c78e81",
   "metadata": {},
   "outputs": [
    {
     "data": {
      "text/plain": [
       "array([[ 1,  2,  3,  4,  5],\n",
       "       [ 6,  7,  8,  9, 10],\n",
       "       [11, 12, 13, 14, 15],\n",
       "       [16, 17, 18, 19, 20],\n",
       "       [21, 22, 23, 24, 25]])"
      ]
     },
     "execution_count": 8,
     "metadata": {},
     "output_type": "execute_result"
    }
   ],
   "source": [
    "a=np.arange(1,26).reshape(5,5)\n",
    "a"
   ]
  },
  {
   "cell_type": "code",
   "execution_count": 48,
   "id": "9fe61215",
   "metadata": {},
   "outputs": [],
   "source": [
    "#write code here that reproduces the output of the cell function\n",
    "#be careful not to run the cell below, otherwise you won't \n",
    "#be able to see the output any more "
   ]
  },
  {
   "cell_type": "code",
   "execution_count": 34,
   "id": "804233c8",
   "metadata": {},
   "outputs": [
    {
     "data": {
      "text/plain": [
       "array([[ 8,  9, 10],\n",
       "       [13, 14, 15],\n",
       "       [18, 19, 20],\n",
       "       [23, 24, 25]])"
      ]
     },
     "execution_count": 34,
     "metadata": {},
     "output_type": "execute_result"
    }
   ],
   "source": [
    "a[1:,2:5]"
   ]
  },
  {
   "cell_type": "code",
   "execution_count": 13,
   "id": "4d2b6acc",
   "metadata": {},
   "outputs": [
    {
     "data": {
      "text/plain": [
       "array([[12, 13, 14, 15],\n",
       "       [17, 18, 19, 20],\n",
       "       [22, 23, 24, 25]])"
      ]
     },
     "execution_count": 13,
     "metadata": {},
     "output_type": "execute_result"
    }
   ],
   "source": [
    "a[2:,1:]"
   ]
  },
  {
   "cell_type": "code",
   "execution_count": 69,
   "id": "1c43b7a7",
   "metadata": {},
   "outputs": [
    {
     "data": {
      "text/plain": [
       "20"
      ]
     },
     "execution_count": 69,
     "metadata": {},
     "output_type": "execute_result"
    }
   ],
   "source": [
    "a[3,4]"
   ]
  },
  {
   "cell_type": "code",
   "execution_count": 14,
   "id": "37da8010",
   "metadata": {},
   "outputs": [
    {
     "data": {
      "text/plain": [
       "array([20])"
      ]
     },
     "execution_count": 14,
     "metadata": {},
     "output_type": "execute_result"
    }
   ],
   "source": [
    "a[3:4,4]"
   ]
  },
  {
   "cell_type": "code",
   "execution_count": 15,
   "id": "f0b20903",
   "metadata": {},
   "outputs": [
    {
     "data": {
      "text/plain": [
       "array([[ 2],\n",
       "       [ 7],\n",
       "       [12]])"
      ]
     },
     "execution_count": 15,
     "metadata": {},
     "output_type": "execute_result"
    }
   ],
   "source": [
    "a[:3,1].reshape(3,1)"
   ]
  },
  {
   "cell_type": "code",
   "execution_count": 16,
   "id": "2f58e7a6",
   "metadata": {},
   "outputs": [
    {
     "data": {
      "text/plain": [
       "array([[21, 22, 23, 24, 25]])"
      ]
     },
     "execution_count": 16,
     "metadata": {},
     "output_type": "execute_result"
    }
   ],
   "source": [
    "a[4:]"
   ]
  },
  {
   "cell_type": "code",
   "execution_count": 17,
   "id": "69dad032",
   "metadata": {},
   "outputs": [
    {
     "data": {
      "text/plain": [
       "array([[16, 17, 18, 19, 20],\n",
       "       [21, 22, 23, 24, 25]])"
      ]
     },
     "execution_count": 17,
     "metadata": {},
     "output_type": "execute_result"
    }
   ],
   "source": [
    "a[3:]"
   ]
  },
  {
   "cell_type": "code",
   "execution_count": 87,
   "id": "dc3a7b6c",
   "metadata": {},
   "outputs": [],
   "source": [
    "#Now do the following"
   ]
  },
  {
   "cell_type": "code",
   "execution_count": 88,
   "id": "4ac91c22",
   "metadata": {},
   "outputs": [],
   "source": [
    "#get the sum of all the values in matrix"
   ]
  },
  {
   "cell_type": "code",
   "execution_count": 18,
   "id": "1c84fb1f",
   "metadata": {},
   "outputs": [
    {
     "data": {
      "text/plain": [
       "325"
      ]
     },
     "execution_count": 18,
     "metadata": {},
     "output_type": "execute_result"
    }
   ],
   "source": [
    "a.sum()"
   ]
  },
  {
   "cell_type": "code",
   "execution_count": 91,
   "id": "9060677b",
   "metadata": {},
   "outputs": [],
   "source": [
    "#get the standard deviation of value in the matrix"
   ]
  },
  {
   "cell_type": "code",
   "execution_count": 19,
   "id": "5ec1dba1",
   "metadata": {},
   "outputs": [
    {
     "data": {
      "text/plain": [
       "7.211102550927978"
      ]
     },
     "execution_count": 19,
     "metadata": {},
     "output_type": "execute_result"
    }
   ],
   "source": [
    "a.std()"
   ]
  },
  {
   "cell_type": "code",
   "execution_count": 93,
   "id": "6519a311",
   "metadata": {},
   "outputs": [],
   "source": [
    "#get the sum of all the columns in the matrix"
   ]
  },
  {
   "cell_type": "code",
   "execution_count": 20,
   "id": "b82c2533",
   "metadata": {},
   "outputs": [
    {
     "data": {
      "text/plain": [
       "array([55, 60, 65, 70, 75])"
      ]
     },
     "execution_count": 20,
     "metadata": {},
     "output_type": "execute_result"
    }
   ],
   "source": [
    "sum(a)"
   ]
  },
  {
   "cell_type": "code",
   "execution_count": 21,
   "id": "2546c6cd",
   "metadata": {},
   "outputs": [
    {
     "data": {
      "text/plain": [
       "(15, 40, 65, 90, 115)"
      ]
     },
     "execution_count": 21,
     "metadata": {},
     "output_type": "execute_result"
    }
   ],
   "source": [
    "a[0].sum(),a[1].sum(),a[2].sum(),a[3].sum(),a[4].sum()"
   ]
  },
  {
   "cell_type": "code",
   "execution_count": 12,
   "id": "5deedb5a",
   "metadata": {},
   "outputs": [
    {
     "data": {
      "text/plain": [
       "array([21, 22, 23, 24, 25])"
      ]
     },
     "execution_count": 12,
     "metadata": {},
     "output_type": "execute_result"
    }
   ],
   "source": [
    "a.max(axis=0)"
   ]
  },
  {
   "cell_type": "code",
   "execution_count": 99,
   "id": "156d4c1f",
   "metadata": {},
   "outputs": [
    {
     "data": {
      "text/plain": [
       "array([ 15,  40,  65,  90, 115])"
      ]
     },
     "execution_count": 99,
     "metadata": {},
     "output_type": "execute_result"
    }
   ],
   "source": [
    "a.sum(axis=1)"
   ]
  },
  {
   "cell_type": "markdown",
   "id": "7277d57c",
   "metadata": {},
   "source": [
    "# Numpy Exercise 2"
   ]
  },
  {
   "cell_type": "code",
   "execution_count": 101,
   "id": "2a673576",
   "metadata": {},
   "outputs": [],
   "source": [
    "#Create 1d,2d and 3d numpy array"
   ]
  },
  {
   "cell_type": "code",
   "execution_count": 23,
   "id": "20d97acf",
   "metadata": {},
   "outputs": [
    {
     "data": {
      "text/plain": [
       "array([[ 1,  2,  3,  4],\n",
       "       [ 5,  6,  7,  8],\n",
       "       [ 9, 10, 11, 12],\n",
       "       [13, 14, 15, 16]])"
      ]
     },
     "execution_count": 23,
     "metadata": {},
     "output_type": "execute_result"
    }
   ],
   "source": [
    "b=np.arange(1,17).reshape(4,4)\n",
    "b"
   ]
  },
  {
   "cell_type": "code",
   "execution_count": 26,
   "id": "6b7b7495",
   "metadata": {},
   "outputs": [
    {
     "data": {
      "text/plain": [
       "array([ 1,  2,  3,  4,  5,  6,  7,  8,  9, 10, 11, 12, 13, 14, 15, 16])"
      ]
     },
     "execution_count": 26,
     "metadata": {},
     "output_type": "execute_result"
    }
   ],
   "source": [
    "c=np.arange(1,17)\n",
    "c"
   ]
  },
  {
   "cell_type": "code",
   "execution_count": 27,
   "id": "26dadc6a",
   "metadata": {},
   "outputs": [
    {
     "data": {
      "text/plain": [
       "array([[[ 1,  2],\n",
       "        [ 3,  4]],\n",
       "\n",
       "       [[ 5,  6],\n",
       "        [ 7,  8]],\n",
       "\n",
       "       [[ 9, 10],\n",
       "        [11, 12]],\n",
       "\n",
       "       [[13, 14],\n",
       "        [15, 16]]])"
      ]
     },
     "execution_count": 27,
     "metadata": {},
     "output_type": "execute_result"
    }
   ],
   "source": [
    "import numpy as np\n",
    "d=np.arange(1,17).reshape(4,2,2)\n",
    "d"
   ]
  },
  {
   "cell_type": "code",
   "execution_count": 116,
   "id": "f9fd7d13",
   "metadata": {},
   "outputs": [],
   "source": [
    "#print data type of array"
   ]
  },
  {
   "cell_type": "code",
   "execution_count": 28,
   "id": "6d563aea",
   "metadata": {},
   "outputs": [
    {
     "data": {
      "text/plain": [
       "dtype('int32')"
      ]
     },
     "execution_count": 28,
     "metadata": {},
     "output_type": "execute_result"
    }
   ],
   "source": [
    "b.dtype\n",
    "c.dtype\n",
    "d.dtype"
   ]
  },
  {
   "cell_type": "code",
   "execution_count": 129,
   "id": "c2b4f715",
   "metadata": {},
   "outputs": [],
   "source": [
    "#print shape and dimension of all the three different array"
   ]
  },
  {
   "cell_type": "code",
   "execution_count": 29,
   "id": "d0fe0972",
   "metadata": {},
   "outputs": [
    {
     "data": {
      "text/plain": [
       "(4, 4)"
      ]
     },
     "execution_count": 29,
     "metadata": {},
     "output_type": "execute_result"
    }
   ],
   "source": [
    "b.shape"
   ]
  },
  {
   "cell_type": "code",
   "execution_count": 30,
   "id": "4eb3211f",
   "metadata": {},
   "outputs": [
    {
     "data": {
      "text/plain": [
       "(4, 2, 2)"
      ]
     },
     "execution_count": 30,
     "metadata": {},
     "output_type": "execute_result"
    }
   ],
   "source": [
    "d.shape"
   ]
  },
  {
   "cell_type": "code",
   "execution_count": 31,
   "id": "1c090284",
   "metadata": {},
   "outputs": [
    {
     "data": {
      "text/plain": [
       "(16,)"
      ]
     },
     "execution_count": 31,
     "metadata": {},
     "output_type": "execute_result"
    }
   ],
   "source": [
    "c.shape"
   ]
  },
  {
   "cell_type": "code",
   "execution_count": 145,
   "id": "1969cd13",
   "metadata": {},
   "outputs": [],
   "source": [
    "#create another 1d array of 12 elements filled with zeros "
   ]
  },
  {
   "cell_type": "code",
   "execution_count": 32,
   "id": "6bde42d5",
   "metadata": {},
   "outputs": [
    {
     "data": {
      "text/plain": [
       "array([0., 0., 0., 0., 0., 0., 0., 0., 0., 0., 0., 0.])"
      ]
     },
     "execution_count": 32,
     "metadata": {},
     "output_type": "execute_result"
    }
   ],
   "source": [
    "np.zeros(12)"
   ]
  },
  {
   "cell_type": "code",
   "execution_count": 143,
   "id": "7203b9fa",
   "metadata": {},
   "outputs": [],
   "source": [
    "#create another 2d array of elements filled with ones "
   ]
  },
  {
   "cell_type": "code",
   "execution_count": 33,
   "id": "b075a49a",
   "metadata": {},
   "outputs": [
    {
     "data": {
      "text/plain": [
       "array([[1., 1., 1., 1.],\n",
       "       [1., 1., 1., 1.],\n",
       "       [1., 1., 1., 1.]])"
      ]
     },
     "execution_count": 33,
     "metadata": {},
     "output_type": "execute_result"
    }
   ],
   "source": [
    "np.ones((3,4))"
   ]
  },
  {
   "cell_type": "code",
   "execution_count": 147,
   "id": "61edf00a",
   "metadata": {},
   "outputs": [],
   "source": [
    "#create a 1d array known as Maths marks out of 100 having 20 elements"
   ]
  },
  {
   "cell_type": "code",
   "execution_count": 39,
   "id": "b4007d0d",
   "metadata": {},
   "outputs": [
    {
     "data": {
      "text/plain": [
       "array([18, 77, 14, 60, 13, 26, 79, 58, 63, 44, 99, 85, 98, 80, 60, 34,  4,\n",
       "       57, 77, 59])"
      ]
     },
     "execution_count": 39,
     "metadata": {},
     "output_type": "execute_result"
    }
   ],
   "source": [
    "marks=np.random.randint(0,101,20)\n",
    "marks"
   ]
  },
  {
   "cell_type": "code",
   "execution_count": 35,
   "id": "55397319",
   "metadata": {},
   "outputs": [
    {
     "data": {
      "text/plain": [
       "3"
      ]
     },
     "execution_count": 35,
     "metadata": {},
     "output_type": "execute_result"
    }
   ],
   "source": [
    "d.ndim"
   ]
  },
  {
   "cell_type": "code",
   "execution_count": 36,
   "id": "8fa8de2d",
   "metadata": {},
   "outputs": [],
   "source": [
    "#Sort the above array in assending and decending order"
   ]
  },
  {
   "cell_type": "code",
   "execution_count": 44,
   "id": "6f9d5227",
   "metadata": {},
   "outputs": [
    {
     "data": {
      "text/plain": [
       "array([ 4, 13, 14, 18, 26, 34, 44, 57, 58, 59, 60, 60, 63, 77, 77, 79, 80,\n",
       "       85, 98, 99])"
      ]
     },
     "execution_count": 44,
     "metadata": {},
     "output_type": "execute_result"
    }
   ],
   "source": [
    "asc=np.sort(marks)\n",
    "asc"
   ]
  },
  {
   "cell_type": "code",
   "execution_count": 37,
   "id": "503786ac",
   "metadata": {},
   "outputs": [],
   "source": [
    "#Create a copy of sorted array to another variable by deep copying"
   ]
  },
  {
   "cell_type": "code",
   "execution_count": 45,
   "id": "f3760cfa",
   "metadata": {},
   "outputs": [
    {
     "data": {
      "text/plain": [
       "array([99, 98, 85, 80, 79, 77, 77, 63, 60, 60, 59, 58, 57, 44, 34, 26, 18,\n",
       "       14, 13,  4])"
      ]
     },
     "execution_count": 45,
     "metadata": {},
     "output_type": "execute_result"
    }
   ],
   "source": [
    "dsc=np.flip(asc)\n",
    "dsc"
   ]
  },
  {
   "cell_type": "code",
   "execution_count": 60,
   "id": "d2825f07",
   "metadata": {},
   "outputs": [
    {
     "data": {
      "text/plain": [
       "array([ 4, 13, 14, 18, 26, 34, 44, 57, 58, 59, 60, 60, 63, 77, 77, 79, 80,\n",
       "       85, 98, 99])"
      ]
     },
     "execution_count": 60,
     "metadata": {},
     "output_type": "execute_result"
    }
   ],
   "source": [
    "ac=asc.copy()\n",
    "ac"
   ]
  },
  {
   "cell_type": "code",
   "execution_count": 43,
   "id": "1054b3fa",
   "metadata": {},
   "outputs": [],
   "source": [
    "#Create a 2d array of 5x5 which is an identity matrix and then convert to 1-d array"
   ]
  },
  {
   "cell_type": "code",
   "execution_count": 61,
   "id": "358ac371",
   "metadata": {},
   "outputs": [
    {
     "data": {
      "text/plain": [
       "array([ 1,  2,  3,  4,  5,  6,  7,  8,  9, 10, 11, 12, 13, 14, 15, 16, 17,\n",
       "       18, 19, 20, 21, 22, 23, 24, 25])"
      ]
     },
     "execution_count": 61,
     "metadata": {},
     "output_type": "execute_result"
    }
   ],
   "source": [
    "e=np.arange(1,26).reshape(5,5)\n",
    "e\n",
    "f=e.reshape(25)\n",
    "f"
   ]
  },
  {
   "cell_type": "code",
   "execution_count": 62,
   "id": "3c840b26",
   "metadata": {},
   "outputs": [
    {
     "data": {
      "text/plain": [
       "array([1., 0., 0., 0., 0., 0., 1., 0., 0., 0., 0., 0., 1., 0., 0., 0., 0.,\n",
       "       0., 1., 0., 0., 0., 0., 0., 1.])"
      ]
     },
     "execution_count": 62,
     "metadata": {},
     "output_type": "execute_result"
    }
   ],
   "source": [
    "np.eye(5).flatten()"
   ]
  },
  {
   "cell_type": "code",
   "execution_count": 63,
   "id": "864f4b21",
   "metadata": {},
   "outputs": [
    {
     "data": {
      "text/plain": [
       "array([1., 0., 0., 0., 0., 0., 1., 0., 0., 0., 0., 0., 1., 0., 0., 0., 0.,\n",
       "       0., 1., 0., 0., 0., 0., 0., 1.])"
      ]
     },
     "execution_count": 63,
     "metadata": {},
     "output_type": "execute_result"
    }
   ],
   "source": [
    "np.eye(5).ravel()"
   ]
  },
  {
   "cell_type": "code",
   "execution_count": 67,
   "id": "30cc4268",
   "metadata": {},
   "outputs": [
    {
     "data": {
      "text/plain": [
       "array([1., 0., 0., 0., 0., 0., 1., 0., 0., 0., 0., 0., 1., 0., 0., 0., 0.,\n",
       "       0., 1., 0., 0., 0., 0., 0., 1.])"
      ]
     },
     "execution_count": 67,
     "metadata": {},
     "output_type": "execute_result"
    }
   ],
   "source": [
    "np.eye(5).reshape(25,)"
   ]
  },
  {
   "cell_type": "code",
   "execution_count": 73,
   "id": "b1a60618",
   "metadata": {},
   "outputs": [],
   "source": [
    "#Create a 2d array of 3x3.Add one more row to it.(vstack,hstack)"
   ]
  },
  {
   "cell_type": "code",
   "execution_count": 15,
   "id": "44121037",
   "metadata": {},
   "outputs": [
    {
     "data": {
      "text/plain": [
       "array([[0, 1, 2],\n",
       "       [3, 4, 5],\n",
       "       [6, 7, 8]])"
      ]
     },
     "execution_count": 15,
     "metadata": {},
     "output_type": "execute_result"
    }
   ],
   "source": [
    "mat=np.arange(0,9).reshape(3,3)\n",
    "mat"
   ]
  },
  {
   "cell_type": "code",
   "execution_count": 30,
   "id": "e0afa3c5",
   "metadata": {},
   "outputs": [
    {
     "data": {
      "text/plain": [
       "array([[ 0,  1,  2],\n",
       "       [ 3,  4,  5],\n",
       "       [ 6,  7,  8],\n",
       "       [ 9, 10, 11]])"
      ]
     },
     "execution_count": 30,
     "metadata": {},
     "output_type": "execute_result"
    }
   ],
   "source": [
    "f=np.append(mat,[[9,10,11]],axis=0)\n",
    "f"
   ]
  },
  {
   "cell_type": "code",
   "execution_count": 47,
   "id": "3a0e5cd1",
   "metadata": {},
   "outputs": [],
   "source": [
    "#Split above array created vertically and horizontally(hsplit, vsplit)"
   ]
  },
  {
   "cell_type": "code",
   "execution_count": 87,
   "id": "f6e45b52",
   "metadata": {},
   "outputs": [
    {
     "data": {
      "text/plain": [
       "[array([[0, 1, 2]]),\n",
       " array([[3, 4, 5]]),\n",
       " array([[6, 7, 8]]),\n",
       " array([[ 9, 10, 11]])]"
      ]
     },
     "execution_count": 87,
     "metadata": {},
     "output_type": "execute_result"
    }
   ],
   "source": [
    "np.split(f,4)"
   ]
  },
  {
   "cell_type": "code",
   "execution_count": 93,
   "id": "3bc0a9f3",
   "metadata": {},
   "outputs": [
    {
     "data": {
      "text/plain": [
       "[array([[0],\n",
       "        [3],\n",
       "        [6],\n",
       "        [9]]),\n",
       " array([[ 1],\n",
       "        [ 4],\n",
       "        [ 7],\n",
       "        [10]]),\n",
       " array([[ 2],\n",
       "        [ 5],\n",
       "        [ 8],\n",
       "        [11]])]"
      ]
     },
     "execution_count": 93,
     "metadata": {},
     "output_type": "execute_result"
    }
   ],
   "source": [
    "np.hsplit(f,3)"
   ]
  },
  {
   "cell_type": "code",
   "execution_count": 94,
   "id": "5c620eb8",
   "metadata": {},
   "outputs": [
    {
     "data": {
      "text/plain": [
       "[array([[0, 1, 2]]),\n",
       " array([[3, 4, 5]]),\n",
       " array([[6, 7, 8]]),\n",
       " array([[ 9, 10, 11]])]"
      ]
     },
     "execution_count": 94,
     "metadata": {},
     "output_type": "execute_result"
    }
   ],
   "source": [
    "np.vsplit(f,4)"
   ]
  },
  {
   "cell_type": "code",
   "execution_count": 51,
   "id": "f1803208",
   "metadata": {},
   "outputs": [],
   "source": [
    "#Create 4x4 identity matrix.Add 4 to each element."
   ]
  },
  {
   "cell_type": "code",
   "execution_count": 99,
   "id": "a80b1b3a",
   "metadata": {},
   "outputs": [
    {
     "data": {
      "text/plain": [
       "array([[1., 0., 0., 0.],\n",
       "       [0., 1., 0., 0.],\n",
       "       [0., 0., 1., 0.],\n",
       "       [0., 0., 0., 1.]])"
      ]
     },
     "execution_count": 99,
     "metadata": {},
     "output_type": "execute_result"
    }
   ],
   "source": [
    "g=np.eye(4)\n",
    "g"
   ]
  },
  {
   "cell_type": "code",
   "execution_count": 100,
   "id": "839b0bc7",
   "metadata": {},
   "outputs": [
    {
     "data": {
      "text/plain": [
       "array([[5., 4., 4., 4.],\n",
       "       [4., 5., 4., 4.],\n",
       "       [4., 4., 5., 4.],\n",
       "       [4., 4., 4., 5.]])"
      ]
     },
     "execution_count": 100,
     "metadata": {},
     "output_type": "execute_result"
    }
   ],
   "source": [
    "g+4"
   ]
  },
  {
   "cell_type": "code",
   "execution_count": 52,
   "id": "3077059b",
   "metadata": {},
   "outputs": [],
   "source": [
    "#Create 1d array. Initialize with floating point values. Display its ceil, floor and round(with)"
   ]
  },
  {
   "cell_type": "code",
   "execution_count": 6,
   "id": "8a685b7d",
   "metadata": {},
   "outputs": [
    {
     "data": {
      "text/plain": [
       "array([6.02388616, 2.25684908, 6.63432705, 3.50580865, 8.12549572,\n",
       "       1.3620505 , 8.83805567, 7.18137196, 8.05614724, 8.13031558])"
      ]
     },
     "execution_count": 6,
     "metadata": {},
     "output_type": "execute_result"
    }
   ],
   "source": [
    "h=np.random.uniform(1,9,10)\n",
    "h"
   ]
  },
  {
   "cell_type": "code",
   "execution_count": 7,
   "id": "110baf05",
   "metadata": {},
   "outputs": [
    {
     "data": {
      "text/plain": [
       "array([7., 3., 7., 4., 9., 2., 9., 8., 9., 9.])"
      ]
     },
     "execution_count": 7,
     "metadata": {},
     "output_type": "execute_result"
    }
   ],
   "source": [
    "np.ceil(h)"
   ]
  },
  {
   "cell_type": "code",
   "execution_count": 8,
   "id": "fee02350",
   "metadata": {},
   "outputs": [
    {
     "data": {
      "text/plain": [
       "array([6., 2., 6., 3., 8., 1., 8., 7., 8., 8.])"
      ]
     },
     "execution_count": 8,
     "metadata": {},
     "output_type": "execute_result"
    }
   ],
   "source": [
    "np.floor(h)"
   ]
  },
  {
   "cell_type": "code",
   "execution_count": 10,
   "id": "14723e73",
   "metadata": {},
   "outputs": [
    {
     "data": {
      "text/plain": [
       "array([6.024, 2.257, 6.634, 3.506, 8.125, 1.362, 8.838, 7.181, 8.056,\n",
       "       8.13 ])"
      ]
     },
     "execution_count": 10,
     "metadata": {},
     "output_type": "execute_result"
    }
   ],
   "source": [
    "np.round(h,3)"
   ]
  },
  {
   "cell_type": "code",
   "execution_count": 53,
   "id": "b23db8e4",
   "metadata": {},
   "outputs": [],
   "source": [
    "#Create 5x5 matrix. Display min, max , variance and standard deviation column wise."
   ]
  },
  {
   "cell_type": "code",
   "execution_count": 1,
   "id": "55b5b404",
   "metadata": {},
   "outputs": [
    {
     "data": {
      "text/plain": [
       "array([[ 1,  2,  3,  4,  5],\n",
       "       [ 6,  7,  8,  9, 10],\n",
       "       [11, 12, 13, 14, 15],\n",
       "       [16, 17, 18, 19, 20],\n",
       "       [21, 22, 23, 24, 25]])"
      ]
     },
     "execution_count": 1,
     "metadata": {},
     "output_type": "execute_result"
    }
   ],
   "source": [
    "import numpy as np\n",
    "i=np.arange(1,26).reshape(5,5)\n",
    "i"
   ]
  },
  {
   "cell_type": "code",
   "execution_count": 13,
   "id": "dae9d170",
   "metadata": {},
   "outputs": [
    {
     "data": {
      "text/plain": [
       "array([ 1,  6, 11, 16, 21])"
      ]
     },
     "execution_count": 13,
     "metadata": {},
     "output_type": "execute_result"
    }
   ],
   "source": [
    "i.min(axis=1)"
   ]
  },
  {
   "cell_type": "code",
   "execution_count": 14,
   "id": "dff2bd46",
   "metadata": {},
   "outputs": [
    {
     "data": {
      "text/plain": [
       "array([ 5, 10, 15, 20, 25])"
      ]
     },
     "execution_count": 14,
     "metadata": {},
     "output_type": "execute_result"
    }
   ],
   "source": [
    "i.max(axis=1)"
   ]
  },
  {
   "cell_type": "code",
   "execution_count": 5,
   "id": "091787a9",
   "metadata": {},
   "outputs": [
    {
     "data": {
      "text/plain": [
       "array([1.41421356, 1.41421356, 1.41421356, 1.41421356, 1.41421356])"
      ]
     },
     "execution_count": 5,
     "metadata": {},
     "output_type": "execute_result"
    }
   ],
   "source": [
    "i.std(axis=1)"
   ]
  },
  {
   "cell_type": "code",
   "execution_count": 6,
   "id": "4eac6bd7",
   "metadata": {},
   "outputs": [
    {
     "data": {
      "text/plain": [
       "array([2., 2., 2., 2., 2.])"
      ]
     },
     "execution_count": 6,
     "metadata": {},
     "output_type": "execute_result"
    }
   ],
   "source": [
    "i.var(axis=1)"
   ]
  },
  {
   "cell_type": "code",
   "execution_count": 54,
   "id": "9f1cb12f",
   "metadata": {},
   "outputs": [],
   "source": [
    "#Create a null vector of size 10 with 6th value filled with 200."
   ]
  },
  {
   "cell_type": "code",
   "execution_count": 147,
   "id": "4a835395",
   "metadata": {},
   "outputs": [
    {
     "data": {
      "text/plain": [
       "array([  0.,   0.,   0.,   0.,   0., 200.,   0.,   0.,   0.,   0.])"
      ]
     },
     "execution_count": 147,
     "metadata": {},
     "output_type": "execute_result"
    }
   ],
   "source": [
    "j=np.zeros(10)\n",
    "j[5]=200\n",
    "j"
   ]
  },
  {
   "cell_type": "code",
   "execution_count": 130,
   "id": "64abce66",
   "metadata": {},
   "outputs": [],
   "source": [
    "#Create a 1d array/vector with values ranging from 100 to 150 in sequence."
   ]
  },
  {
   "cell_type": "code",
   "execution_count": 137,
   "id": "feea1900",
   "metadata": {},
   "outputs": [
    {
     "data": {
      "text/plain": [
       "array([100, 101, 102, 103, 104, 105, 106, 107, 108, 109, 110, 111, 112,\n",
       "       113, 114, 115, 116, 117, 118, 119, 120, 121, 122, 123, 124, 125,\n",
       "       126, 127, 128, 129, 130, 131, 132, 133, 134, 135, 136, 137, 138,\n",
       "       139, 140, 141, 142, 143, 144, 145, 146, 147, 148, 149, 150])"
      ]
     },
     "execution_count": 137,
     "metadata": {},
     "output_type": "execute_result"
    }
   ],
   "source": [
    "k=np.arange(100,151)\n",
    "k"
   ]
  },
  {
   "cell_type": "code",
   "execution_count": 101,
   "id": "6958187c",
   "metadata": {},
   "outputs": [],
   "source": [
    "#Reverse the above vector."
   ]
  },
  {
   "cell_type": "code",
   "execution_count": 138,
   "id": "b2f16f5d",
   "metadata": {},
   "outputs": [
    {
     "data": {
      "text/plain": [
       "array([150, 149, 148, 147, 146, 145, 144, 143, 142, 141, 140, 139, 138,\n",
       "       137, 136, 135, 134, 133, 132, 131, 130, 129, 128, 127, 126, 125,\n",
       "       124, 123, 122, 121, 120, 119, 118, 117, 116, 115, 114, 113, 112,\n",
       "       111, 110, 109, 108, 107, 106, 105, 104, 103, 102, 101, 100])"
      ]
     },
     "execution_count": 138,
     "metadata": {},
     "output_type": "execute_result"
    }
   ],
   "source": [
    "np.flip(k)"
   ]
  },
  {
   "cell_type": "code",
   "execution_count": 102,
   "id": "adcd40a0",
   "metadata": {},
   "outputs": [],
   "source": [
    "#Create a 5x5 matrix with values ranging from 0-24 using some function"
   ]
  },
  {
   "cell_type": "code",
   "execution_count": 139,
   "id": "26defeae",
   "metadata": {},
   "outputs": [
    {
     "data": {
      "text/plain": [
       "array([[ 0,  1,  2,  3,  4],\n",
       "       [ 5,  6,  7,  8,  9],\n",
       "       [10, 11, 12, 13, 14],\n",
       "       [15, 16, 17, 18, 19],\n",
       "       [20, 21, 22, 23, 24]])"
      ]
     },
     "execution_count": 139,
     "metadata": {},
     "output_type": "execute_result"
    }
   ],
   "source": [
    "np.arange(0,25).reshape(5,5)"
   ]
  },
  {
   "cell_type": "code",
   "execution_count": 115,
   "id": "17f1ebe5",
   "metadata": {},
   "outputs": [],
   "source": [
    "#Find indices of nonzero elements from [1,0,2,0,0,4,0,0] "
   ]
  },
  {
   "cell_type": "code",
   "execution_count": 148,
   "id": "84cebd89",
   "metadata": {},
   "outputs": [
    {
     "data": {
      "text/plain": [
       "(array([0, 2, 5], dtype=int64),)"
      ]
     },
     "execution_count": 148,
     "metadata": {},
     "output_type": "execute_result"
    }
   ],
   "source": [
    "l=np.array([1,0,2,0,0,4,0,0])\n",
    "np.nonzero(l)"
   ]
  },
  {
   "cell_type": "code",
   "execution_count": 142,
   "id": "f6351944",
   "metadata": {},
   "outputs": [],
   "source": [
    "#Create a 10x10 matrix with 1 on the borders and 0 inside"
   ]
  },
  {
   "cell_type": "code",
   "execution_count": 5,
   "id": "4b24fc2f",
   "metadata": {},
   "outputs": [
    {
     "name": "stdout",
     "output_type": "stream",
     "text": [
      "[[nan nan nan nan nan nan nan nan]\n",
      " [nan  5.  5.  5.  5.  5.  5. nan]\n",
      " [nan  5.  5.  5.  5.  5.  5. nan]\n",
      " [nan  5.  5.  5.  5.  5.  5. nan]\n",
      " [nan  5.  5.  5.  5.  5.  5. nan]\n",
      " [nan  5.  5.  5.  5.  5.  5. nan]\n",
      " [nan  5.  5.  5.  5.  5.  5. nan]\n",
      " [nan nan nan nan nan nan nan nan]]\n"
     ]
    }
   ],
   "source": [
    "import numpy as np\n",
    "\n",
    "# Create a 2D matrix filled with nan\n",
    "matrix = np.ones((8,8))*5\n",
    "\n",
    "# Set the border values to nan\n",
    "matrix[:, [0, -1]] = \"nan\"  # Set the first and last columns to nan\n",
    "matrix[[0, -1], :] =\"nan\"# Set the first and last rows to nan\n",
    "\n",
    "# Display the resulting matrix\n",
    "print(matrix)"
   ]
  },
  {
   "cell_type": "code",
   "execution_count": 159,
   "id": "99d256bb",
   "metadata": {},
   "outputs": [],
   "source": [
    "#Create 8x8 matrix and fill with 1 and 0 in checkerbox pattern"
   ]
  },
  {
   "cell_type": "code",
   "execution_count": 171,
   "id": "bb38de6f",
   "metadata": {},
   "outputs": [
    {
     "data": {
      "text/plain": [
       "array([[1, 0, 1, 0, 1, 0, 1, 0],\n",
       "       [0, 1, 0, 1, 0, 1, 0, 1],\n",
       "       [1, 0, 1, 0, 1, 0, 1, 0],\n",
       "       [0, 1, 0, 1, 0, 1, 0, 1],\n",
       "       [1, 0, 1, 0, 1, 0, 1, 0],\n",
       "       [0, 1, 0, 1, 0, 1, 0, 1],\n",
       "       [1, 0, 1, 0, 1, 0, 1, 0],\n",
       "       [0, 1, 0, 1, 0, 1, 0, 1]])"
      ]
     },
     "execution_count": 171,
     "metadata": {},
     "output_type": "execute_result"
    }
   ],
   "source": [
    "n = np.zeros((8, 8), dtype=int)\n",
    "n[::2, ::2] = 1\n",
    "n[1::2, 1::2] = 1\n",
    "n"
   ]
  },
  {
   "cell_type": "code",
   "execution_count": 18,
   "id": "5e5f81ad",
   "metadata": {},
   "outputs": [],
   "source": [
    "#Create a 3x3 matrix with random integer values. Perform matrix addition, multilication and subtraction.\n",
    "o = np.random.randint(1, 10, (3, 3))\n",
    "p= np.random.randint(1, 10, (3, 3))"
   ]
  },
  {
   "cell_type": "code",
   "execution_count": 21,
   "id": "ea3677be",
   "metadata": {},
   "outputs": [
    {
     "data": {
      "text/plain": [
       "array([[11, 13,  8],\n",
       "       [14, 10, 15],\n",
       "       [11,  9,  9]])"
      ]
     },
     "execution_count": 21,
     "metadata": {},
     "output_type": "execute_result"
    }
   ],
   "source": [
    "np.add(o,p)"
   ]
  },
  {
   "cell_type": "code",
   "execution_count": 20,
   "id": "c7d6fa98",
   "metadata": {},
   "outputs": [
    {
     "data": {
      "text/plain": [
       "array([[ 3,  1,  4],\n",
       "       [-2,  4, -3],\n",
       "       [-3, -1,  3]])"
      ]
     },
     "execution_count": 20,
     "metadata": {},
     "output_type": "execute_result"
    }
   ],
   "source": [
    "np.subtract(o,p)"
   ]
  },
  {
   "cell_type": "code",
   "execution_count": 172,
   "id": "2ca4c0f8",
   "metadata": {},
   "outputs": [
    {
     "data": {
      "text/plain": [
       "array([[ 50,  95, 107],\n",
       "       [ 43,  42,  53],\n",
       "       [ 55, 157, 172]])"
      ]
     },
     "execution_count": 172,
     "metadata": {},
     "output_type": "execute_result"
    }
   ],
   "source": [
    "np.dot(o,p)"
   ]
  },
  {
   "cell_type": "code",
   "execution_count": null,
   "id": "56cb7f9d",
   "metadata": {},
   "outputs": [],
   "source": []
  },
  {
   "cell_type": "code",
   "execution_count": null,
   "id": "cd4f2a11",
   "metadata": {},
   "outputs": [],
   "source": []
  }
 ],
 "metadata": {
  "kernelspec": {
   "display_name": "Python 3 (ipykernel)",
   "language": "python",
   "name": "python3"
  },
  "language_info": {
   "codemirror_mode": {
    "name": "ipython",
    "version": 3
   },
   "file_extension": ".py",
   "mimetype": "text/x-python",
   "name": "python",
   "nbconvert_exporter": "python",
   "pygments_lexer": "ipython3",
   "version": "3.11.5"
  }
 },
 "nbformat": 4,
 "nbformat_minor": 5
}
